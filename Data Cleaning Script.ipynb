{
 "cells": [
  {
   "cell_type": "code",
   "execution_count": 300,
   "metadata": {
    "vscode": {
     "languageId": "r"
    }
   },
   "outputs": [],
   "source": [
    "library(dplyr)\n",
    "library(ggplot2)"
   ]
  },
  {
   "cell_type": "code",
   "execution_count": 2,
   "metadata": {
    "vscode": {
     "languageId": "r"
    }
   },
   "outputs": [],
   "source": [
    "df <- read.csv(\"assets/datasets/student_performance_prediction.csv\", stringsAsFactors = TRUE)"
   ]
  },
  {
   "cell_type": "markdown",
   "metadata": {},
   "source": [
    "# 1. Initial Review"
   ]
  },
  {
   "cell_type": "code",
   "execution_count": 3,
   "metadata": {
    "vscode": {
     "languageId": "r"
    }
   },
   "outputs": [
    {
     "data": {
      "text/html": [
       "<table class=\"dataframe\">\n",
       "<caption>A data.frame: 6 × 7</caption>\n",
       "<thead>\n",
       "\t<tr><th></th><th scope=col>Student.ID</th><th scope=col>Study.Hours.per.Week</th><th scope=col>Attendance.Rate</th><th scope=col>Previous.Grades</th><th scope=col>Participation.in.Extracurricular.Activities</th><th scope=col>Parent.Education.Level</th><th scope=col>Passed</th></tr>\n",
       "\t<tr><th></th><th scope=col>&lt;fct&gt;</th><th scope=col>&lt;dbl&gt;</th><th scope=col>&lt;dbl&gt;</th><th scope=col>&lt;dbl&gt;</th><th scope=col>&lt;fct&gt;</th><th scope=col>&lt;fct&gt;</th><th scope=col>&lt;fct&gt;</th></tr>\n",
       "</thead>\n",
       "<tbody>\n",
       "\t<tr><th scope=row>1</th><td>S00001</td><td>12.5</td><td>  NA</td><td>75.0</td><td>Yes</td><td>Master     </td><td>Yes</td></tr>\n",
       "\t<tr><th scope=row>2</th><td>S00002</td><td> 9.3</td><td>95.3</td><td>60.6</td><td>No </td><td>High School</td><td>No </td></tr>\n",
       "\t<tr><th scope=row>3</th><td>S00003</td><td>13.2</td><td>  NA</td><td>64.0</td><td>No </td><td>Associate  </td><td>No </td></tr>\n",
       "\t<tr><th scope=row>4</th><td>S00004</td><td>17.6</td><td>76.8</td><td>62.4</td><td>Yes</td><td>Bachelor   </td><td>No </td></tr>\n",
       "\t<tr><th scope=row>5</th><td>S00005</td><td> 8.8</td><td>89.3</td><td>72.7</td><td>No </td><td>Master     </td><td>No </td></tr>\n",
       "\t<tr><th scope=row>6</th><td>S00006</td><td> 8.8</td><td>73.8</td><td>69.3</td><td>Yes</td><td>High School</td><td>Yes</td></tr>\n",
       "</tbody>\n",
       "</table>\n"
      ],
      "text/latex": [
       "A data.frame: 6 × 7\n",
       "\\begin{tabular}{r|lllllll}\n",
       "  & Student.ID & Study.Hours.per.Week & Attendance.Rate & Previous.Grades & Participation.in.Extracurricular.Activities & Parent.Education.Level & Passed\\\\\n",
       "  & <fct> & <dbl> & <dbl> & <dbl> & <fct> & <fct> & <fct>\\\\\n",
       "\\hline\n",
       "\t1 & S00001 & 12.5 &   NA & 75.0 & Yes & Master      & Yes\\\\\n",
       "\t2 & S00002 &  9.3 & 95.3 & 60.6 & No  & High School & No \\\\\n",
       "\t3 & S00003 & 13.2 &   NA & 64.0 & No  & Associate   & No \\\\\n",
       "\t4 & S00004 & 17.6 & 76.8 & 62.4 & Yes & Bachelor    & No \\\\\n",
       "\t5 & S00005 &  8.8 & 89.3 & 72.7 & No  & Master      & No \\\\\n",
       "\t6 & S00006 &  8.8 & 73.8 & 69.3 & Yes & High School & Yes\\\\\n",
       "\\end{tabular}\n"
      ],
      "text/markdown": [
       "\n",
       "A data.frame: 6 × 7\n",
       "\n",
       "| <!--/--> | Student.ID &lt;fct&gt; | Study.Hours.per.Week &lt;dbl&gt; | Attendance.Rate &lt;dbl&gt; | Previous.Grades &lt;dbl&gt; | Participation.in.Extracurricular.Activities &lt;fct&gt; | Parent.Education.Level &lt;fct&gt; | Passed &lt;fct&gt; |\n",
       "|---|---|---|---|---|---|---|---|\n",
       "| 1 | S00001 | 12.5 |   NA | 75.0 | Yes | Master      | Yes |\n",
       "| 2 | S00002 |  9.3 | 95.3 | 60.6 | No  | High School | No  |\n",
       "| 3 | S00003 | 13.2 |   NA | 64.0 | No  | Associate   | No  |\n",
       "| 4 | S00004 | 17.6 | 76.8 | 62.4 | Yes | Bachelor    | No  |\n",
       "| 5 | S00005 |  8.8 | 89.3 | 72.7 | No  | Master      | No  |\n",
       "| 6 | S00006 |  8.8 | 73.8 | 69.3 | Yes | High School | Yes |\n",
       "\n"
      ],
      "text/plain": [
       "  Student.ID Study.Hours.per.Week Attendance.Rate Previous.Grades\n",
       "1 S00001     12.5                   NA            75.0           \n",
       "2 S00002      9.3                 95.3            60.6           \n",
       "3 S00003     13.2                   NA            64.0           \n",
       "4 S00004     17.6                 76.8            62.4           \n",
       "5 S00005      8.8                 89.3            72.7           \n",
       "6 S00006      8.8                 73.8            69.3           \n",
       "  Participation.in.Extracurricular.Activities Parent.Education.Level Passed\n",
       "1 Yes                                         Master                 Yes   \n",
       "2 No                                          High School            No    \n",
       "3 No                                          Associate              No    \n",
       "4 Yes                                         Bachelor               No    \n",
       "5 No                                          Master                 No    \n",
       "6 Yes                                         High School            Yes   "
      ]
     },
     "metadata": {},
     "output_type": "display_data"
    }
   ],
   "source": [
    "head(df)"
   ]
  },
  {
   "cell_type": "code",
   "execution_count": 264,
   "metadata": {
    "vscode": {
     "languageId": "r"
    }
   },
   "outputs": [
    {
     "name": "stdout",
     "output_type": "stream",
     "text": [
      "'data.frame':\t40000 obs. of  7 variables:\n",
      " $ Student.ID                                 : Factor w/ 40000 levels \"S00001\",\"S00002\",..: 1 2 3 4 5 6 7 8 9 10 ...\n",
      " $ Study.Hours.per.Week                       : num  12.5 9.3 13.2 17.6 8.8 8.8 17.9 13.8 7.7 12.7 ...\n",
      " $ Attendance.Rate                            : num  NA 95.3 NA 76.8 89.3 ...\n",
      " $ Previous.Grades                            : num  75 60.6 64 62.4 72.7 69.3 93.6 59.2 91.9 37.8 ...\n",
      " $ Participation.in.Extracurricular.Activities: Factor w/ 3 levels \"nan\",\"No\",\"Yes\": 3 2 2 3 2 3 2 3 2 3 ...\n",
      " $ Parent.Education.Level                     : Factor w/ 6 levels \"Associate\",\"Bachelor\",..: 5 4 1 2 5 4 3 3 2 4 ...\n",
      " $ Passed                                     : Factor w/ 3 levels \"nan\",\"No\",\"Yes\": 3 2 2 2 2 3 3 2 3 1 ...\n"
     ]
    }
   ],
   "source": [
    "str(df)"
   ]
  },
  {
   "cell_type": "code",
   "execution_count": 265,
   "metadata": {
    "vscode": {
     "languageId": "r"
    }
   },
   "outputs": [
    {
     "data": {
      "text/plain": [
       "   Student.ID    Study.Hours.per.Week Attendance.Rate  Previous.Grades \n",
       " S00001 :    1   Min.   :-12.300      Min.   :-14.30   Min.   :  8.30  \n",
       " S00002 :    1   1st Qu.:  6.600      1st Qu.: 61.60   1st Qu.: 55.10  \n",
       " S00003 :    1   Median : 10.000      Median : 75.30   Median : 65.20  \n",
       " S00004 :    1   Mean   :  9.963      Mean   : 75.28   Mean   : 65.44  \n",
       " S00005 :    1   3rd Qu.: 13.400      3rd Qu.: 88.80   3rd Qu.: 75.20  \n",
       " S00006 :    1   Max.   : 32.400      Max.   :150.20   Max.   :200.00  \n",
       " (Other):39994   NA's   :1995         NA's   :1992     NA's   :1994    "
      ]
     },
     "metadata": {},
     "output_type": "display_data"
    }
   ],
   "source": [
    "summary(df[, c(\"Student.ID\", \"Study.Hours.per.Week\", \"Attendance.Rate\", \"Previous.Grades\")])"
   ]
  },
  {
   "cell_type": "code",
   "execution_count": 266,
   "metadata": {
    "vscode": {
     "languageId": "r"
    }
   },
   "outputs": [
    {
     "data": {
      "text/plain": [
       " Participation.in.Extracurricular.Activities Parent.Education.Level Passed     \n",
       " nan: 2000                                   Associate  :7604       nan: 2000  \n",
       " No :19028                                   Bachelor   :7685       No :18989  \n",
       " Yes:18972                                   Doctorate  :7610       Yes:19011  \n",
       "                                             High School:7675                  \n",
       "                                             Master     :7426                  \n",
       "                                             nan        :2000                  "
      ]
     },
     "metadata": {},
     "output_type": "display_data"
    }
   ],
   "source": [
    "summary(df[, c(\"Participation.in.Extracurricular.Activities\", \"Parent.Education.Level\", \"Passed\")])"
   ]
  },
  {
   "cell_type": "markdown",
   "metadata": {},
   "source": [
    "# 2. Removal of Irrelevant Columns"
   ]
  },
  {
   "cell_type": "code",
   "execution_count": 267,
   "metadata": {
    "vscode": {
     "languageId": "r"
    }
   },
   "outputs": [],
   "source": [
    "# removing `Student.ID`\n",
    "df <- df[, -1]"
   ]
  },
  {
   "cell_type": "markdown",
   "metadata": {},
   "source": [
    "# 3. Change Column Names"
   ]
  },
  {
   "cell_type": "code",
   "execution_count": 268,
   "metadata": {
    "vscode": {
     "languageId": "r"
    }
   },
   "outputs": [],
   "source": [
    "colnames(df) <- tolower(colnames(df))"
   ]
  },
  {
   "cell_type": "code",
   "execution_count": 269,
   "metadata": {
    "vscode": {
     "languageId": "r"
    }
   },
   "outputs": [
    {
     "name": "stdout",
     "output_type": "stream",
     "text": [
      "'data.frame':\t40000 obs. of  6 variables:\n",
      " $ study.hours.per.week                       : num  12.5 9.3 13.2 17.6 8.8 8.8 17.9 13.8 7.7 12.7 ...\n",
      " $ attendance.rate                            : num  NA 95.3 NA 76.8 89.3 ...\n",
      " $ previous.grades                            : num  75 60.6 64 62.4 72.7 69.3 93.6 59.2 91.9 37.8 ...\n",
      " $ participation.in.extracurricular.activities: Factor w/ 3 levels \"nan\",\"No\",\"Yes\": 3 2 2 3 2 3 2 3 2 3 ...\n",
      " $ parent.education.level                     : Factor w/ 6 levels \"Associate\",\"Bachelor\",..: 5 4 1 2 5 4 3 3 2 4 ...\n",
      " $ passed                                     : Factor w/ 3 levels \"nan\",\"No\",\"Yes\": 3 2 2 2 2 3 3 2 3 1 ...\n"
     ]
    }
   ],
   "source": [
    "# reviewing the changes\n",
    "str(df)"
   ]
  },
  {
   "cell_type": "code",
   "execution_count": 270,
   "metadata": {
    "vscode": {
     "languageId": "r"
    }
   },
   "outputs": [],
   "source": [
    "# Cambiar el nombre de una columna específica\n",
    "names(df)[names(df) == \"participation.in.extracurricular.activities\"] <- \"extracurricular.activities\"\n",
    "names(df)[names(df) == \"study.hours.per.week\"] <- \"study.hrs.perwk\"\n",
    "names(df)[names(df) == \"parent.education.level\"] <- \"parent.edu.level\""
   ]
  },
  {
   "cell_type": "code",
   "execution_count": 271,
   "metadata": {
    "vscode": {
     "languageId": "r"
    }
   },
   "outputs": [
    {
     "name": "stdout",
     "output_type": "stream",
     "text": [
      "'data.frame':\t40000 obs. of  6 variables:\n",
      " $ study.hrs.perwk           : num  12.5 9.3 13.2 17.6 8.8 8.8 17.9 13.8 7.7 12.7 ...\n",
      " $ attendance.rate           : num  NA 95.3 NA 76.8 89.3 ...\n",
      " $ previous.grades           : num  75 60.6 64 62.4 72.7 69.3 93.6 59.2 91.9 37.8 ...\n",
      " $ extracurricular.activities: Factor w/ 3 levels \"nan\",\"No\",\"Yes\": 3 2 2 3 2 3 2 3 2 3 ...\n",
      " $ parent.edu.level          : Factor w/ 6 levels \"Associate\",\"Bachelor\",..: 5 4 1 2 5 4 3 3 2 4 ...\n",
      " $ passed                    : Factor w/ 3 levels \"nan\",\"No\",\"Yes\": 3 2 2 2 2 3 3 2 3 1 ...\n"
     ]
    }
   ],
   "source": [
    "# reviewing the changes\n",
    "str(df)"
   ]
  },
  {
   "cell_type": "markdown",
   "metadata": {},
   "source": [
    "# 4. Handling Duplicates"
   ]
  },
  {
   "cell_type": "code",
   "execution_count": 272,
   "metadata": {
    "vscode": {
     "languageId": "r"
    }
   },
   "outputs": [
    {
     "data": {
      "text/html": [
       "0"
      ],
      "text/latex": [
       "0"
      ],
      "text/markdown": [
       "0"
      ],
      "text/plain": [
       "[1] 0"
      ]
     },
     "metadata": {},
     "output_type": "display_data"
    }
   ],
   "source": [
    "sum(duplicated(df))"
   ]
  },
  {
   "cell_type": "markdown",
   "metadata": {},
   "source": [
    "# 5. Handling Null Values"
   ]
  },
  {
   "cell_type": "code",
   "execution_count": 273,
   "metadata": {
    "vscode": {
     "languageId": "r"
    }
   },
   "outputs": [
    {
     "data": {
      "text/html": [
       "5981"
      ],
      "text/latex": [
       "5981"
      ],
      "text/markdown": [
       "5981"
      ],
      "text/plain": [
       "[1] 5981"
      ]
     },
     "metadata": {},
     "output_type": "display_data"
    }
   ],
   "source": [
    "sum(is.na(df))"
   ]
  },
  {
   "cell_type": "code",
   "execution_count": 274,
   "metadata": {
    "vscode": {
     "languageId": "r"
    }
   },
   "outputs": [],
   "source": [
    "# changing 'nan' to NA for easy removal\n",
    "df$extracurricular.activities[df$extracurricular.activities == \"nan\"] <- NA\n",
    "df$parent.edu.level[df$parent.edu.level == \"nan\"] <- NA\n",
    "df$passed[df$passed == \"nan\"] <- NA"
   ]
  },
  {
   "cell_type": "code",
   "execution_count": 275,
   "metadata": {
    "vscode": {
     "languageId": "r"
    }
   },
   "outputs": [
    {
     "data": {
      "text/html": [
       "11981"
      ],
      "text/latex": [
       "11981"
      ],
      "text/markdown": [
       "11981"
      ],
      "text/plain": [
       "[1] 11981"
      ]
     },
     "metadata": {},
     "output_type": "display_data"
    }
   ],
   "source": [
    "sum(is.na(df))"
   ]
  },
  {
   "cell_type": "code",
   "execution_count": 276,
   "metadata": {
    "vscode": {
     "languageId": "r"
    }
   },
   "outputs": [
    {
     "data": {
      "text/html": [
       "0"
      ],
      "text/latex": [
       "0"
      ],
      "text/markdown": [
       "0"
      ],
      "text/plain": [
       "[1] 0"
      ]
     },
     "metadata": {},
     "output_type": "display_data"
    }
   ],
   "source": [
    "df <- na.omit(df)\n",
    "sum(is.na(df))"
   ]
  },
  {
   "cell_type": "code",
   "execution_count": 277,
   "metadata": {
    "vscode": {
     "languageId": "r"
    }
   },
   "outputs": [
    {
     "name": "stdout",
     "output_type": "stream",
     "text": [
      "'data.frame':\t29446 obs. of  6 variables:\n",
      " $ study.hrs.perwk           : num  9.3 17.6 8.8 8.8 17.9 13.8 7.7 7.7 7.7 1.4 ...\n",
      " $ attendance.rate           : num  95.3 76.8 89.3 73.8 38.6 ...\n",
      " $ previous.grades           : num  60.6 62.4 72.7 69.3 93.6 59.2 91.9 72.3 41.2 49.2 ...\n",
      " $ extracurricular.activities: Factor w/ 3 levels \"nan\",\"No\",\"Yes\": 2 3 2 3 2 3 2 2 3 2 ...\n",
      " $ parent.edu.level          : Factor w/ 6 levels \"Associate\",\"Bachelor\",..: 4 2 5 4 3 3 2 5 5 1 ...\n",
      " $ passed                    : Factor w/ 3 levels \"nan\",\"No\",\"Yes\": 2 2 2 3 3 2 3 2 2 3 ...\n",
      " - attr(*, \"na.action\")= 'omit' Named int [1:10554] 1 3 10 13 14 26 27 41 44 49 ...\n",
      "  ..- attr(*, \"names\")= chr [1:10554] \"1\" \"3\" \"10\" \"13\" ...\n"
     ]
    }
   ],
   "source": [
    "# there are still 'nan' values as a factor\n",
    "str(df)"
   ]
  },
  {
   "cell_type": "code",
   "execution_count": 278,
   "metadata": {
    "vscode": {
     "languageId": "r"
    }
   },
   "outputs": [],
   "source": [
    "# removing 'nan' as a factor\n",
    "df$extracurricular.activities <- droplevels(df$extracurricular.activities)\n",
    "df$parent.edu.level <- droplevels(df$parent.edu.level)\n",
    "df$passed <- droplevels(df$passed)"
   ]
  },
  {
   "cell_type": "code",
   "execution_count": 279,
   "metadata": {
    "vscode": {
     "languageId": "r"
    }
   },
   "outputs": [
    {
     "name": "stdout",
     "output_type": "stream",
     "text": [
      "'data.frame':\t29446 obs. of  6 variables:\n",
      " $ study.hrs.perwk           : num  9.3 17.6 8.8 8.8 17.9 13.8 7.7 7.7 7.7 1.4 ...\n",
      " $ attendance.rate           : num  95.3 76.8 89.3 73.8 38.6 ...\n",
      " $ previous.grades           : num  60.6 62.4 72.7 69.3 93.6 59.2 91.9 72.3 41.2 49.2 ...\n",
      " $ extracurricular.activities: Factor w/ 2 levels \"No\",\"Yes\": 1 2 1 2 1 2 1 1 2 1 ...\n",
      " $ parent.edu.level          : Factor w/ 5 levels \"Associate\",\"Bachelor\",..: 4 2 5 4 3 3 2 5 5 1 ...\n",
      " $ passed                    : Factor w/ 2 levels \"No\",\"Yes\": 1 1 1 2 2 1 2 1 1 2 ...\n",
      " - attr(*, \"na.action\")= 'omit' Named int [1:10554] 1 3 10 13 14 26 27 41 44 49 ...\n",
      "  ..- attr(*, \"names\")= chr [1:10554] \"1\" \"3\" \"10\" \"13\" ...\n"
     ]
    }
   ],
   "source": [
    "# reviewing the change\n",
    "str(df)"
   ]
  },
  {
   "cell_type": "markdown",
   "metadata": {},
   "source": [
    "# 6. Data Type Conversion"
   ]
  },
  {
   "cell_type": "code",
   "execution_count": 280,
   "metadata": {
    "vscode": {
     "languageId": "r"
    }
   },
   "outputs": [
    {
     "name": "stdout",
     "output_type": "stream",
     "text": [
      "'data.frame':\t29446 obs. of  6 variables:\n",
      " $ study.hrs.perwk           : num  9.3 17.6 8.8 8.8 17.9 13.8 7.7 7.7 7.7 1.4 ...\n",
      " $ attendance.rate           : num  95.3 76.8 89.3 73.8 38.6 ...\n",
      " $ previous.grades           : num  60.6 62.4 72.7 69.3 93.6 59.2 91.9 72.3 41.2 49.2 ...\n",
      " $ extracurricular.activities: Factor w/ 2 levels \"No\",\"Yes\": 1 2 1 2 1 2 1 1 2 1 ...\n",
      " $ parent.edu.level          : Factor w/ 5 levels \"Associate\",\"Bachelor\",..: 4 2 5 4 3 3 2 5 5 1 ...\n",
      " $ passed                    : Factor w/ 2 levels \"No\",\"Yes\": 1 1 1 2 2 1 2 1 1 2 ...\n",
      " - attr(*, \"na.action\")= 'omit' Named int [1:10554] 1 3 10 13 14 26 27 41 44 49 ...\n",
      "  ..- attr(*, \"names\")= chr [1:10554] \"1\" \"3\" \"10\" \"13\" ...\n"
     ]
    }
   ],
   "source": [
    "str(df)"
   ]
  },
  {
   "cell_type": "markdown",
   "metadata": {},
   "source": [
    "# 7. Error and Anomaly Correction"
   ]
  },
  {
   "cell_type": "code",
   "execution_count": 281,
   "metadata": {
    "vscode": {
     "languageId": "r"
    }
   },
   "outputs": [
    {
     "data": {
      "text/plain": [
       " study.hrs.perwk  attendance.rate  previous.grades \n",
       " Min.   :-9.200   Min.   :-14.30   Min.   :  8.30  \n",
       " 1st Qu.: 6.600   1st Qu.: 61.60   1st Qu.: 54.90  \n",
       " Median :10.000   Median : 75.30   Median : 65.20  \n",
       " Mean   : 9.965   Mean   : 75.31   Mean   : 65.41  \n",
       " 3rd Qu.:13.400   3rd Qu.: 88.80   3rd Qu.: 75.20  \n",
       " Max.   :32.400   Max.   :150.20   Max.   :200.00  "
      ]
     },
     "metadata": {},
     "output_type": "display_data"
    }
   ],
   "source": [
    "# negative values in `study.hrs.perwk` and `attendance.rate`\n",
    "# values higher than 100 in `attendance.rate` and `previous.grades`\n",
    "summary(df[1:3])"
   ]
  },
  {
   "cell_type": "markdown",
   "metadata": {},
   "source": [
    "## I. Negative Values in Study Hours per Week"
   ]
  },
  {
   "cell_type": "code",
   "execution_count": 282,
   "metadata": {
    "vscode": {
     "languageId": "r"
    }
   },
   "outputs": [],
   "source": [
    "# filtering negative values\n",
    "negative.hours <- df %>% filter(study.hrs.perwk < 0)"
   ]
  },
  {
   "cell_type": "code",
   "execution_count": 283,
   "metadata": {
    "vscode": {
     "languageId": "r"
    }
   },
   "outputs": [
    {
     "data": {
      "text/html": [
       "<table class=\"dataframe\">\n",
       "<caption>A data.frame: 6 × 6</caption>\n",
       "<thead>\n",
       "\t<tr><th></th><th scope=col>study.hrs.perwk</th><th scope=col>attendance.rate</th><th scope=col>previous.grades</th><th scope=col>extracurricular.activities</th><th scope=col>parent.edu.level</th><th scope=col>passed</th></tr>\n",
       "\t<tr><th></th><th scope=col>&lt;dbl&gt;</th><th scope=col>&lt;dbl&gt;</th><th scope=col>&lt;dbl&gt;</th><th scope=col>&lt;fct&gt;</th><th scope=col>&lt;fct&gt;</th><th scope=col>&lt;fct&gt;</th></tr>\n",
       "</thead>\n",
       "<tbody>\n",
       "\t<tr><th scope=row>1</th><td>-3.1</td><td>37.3</td><td>43.1</td><td>No </td><td>Master     </td><td>Yes</td></tr>\n",
       "\t<tr><th scope=row>2</th><td>-0.1</td><td>50.0</td><td>65.9</td><td>No </td><td>Bachelor   </td><td>No </td></tr>\n",
       "\t<tr><th scope=row>3</th><td>-6.2</td><td>98.7</td><td>26.2</td><td>Yes</td><td>High School</td><td>Yes</td></tr>\n",
       "\t<tr><th scope=row>4</th><td>-0.3</td><td>67.4</td><td>49.1</td><td>No </td><td>Bachelor   </td><td>No </td></tr>\n",
       "\t<tr><th scope=row>5</th><td>-1.0</td><td>85.5</td><td>56.8</td><td>No </td><td>Associate  </td><td>Yes</td></tr>\n",
       "\t<tr><th scope=row>6</th><td>-1.5</td><td>67.2</td><td>68.5</td><td>No </td><td>Bachelor   </td><td>No </td></tr>\n",
       "</tbody>\n",
       "</table>\n"
      ],
      "text/latex": [
       "A data.frame: 6 × 6\n",
       "\\begin{tabular}{r|llllll}\n",
       "  & study.hrs.perwk & attendance.rate & previous.grades & extracurricular.activities & parent.edu.level & passed\\\\\n",
       "  & <dbl> & <dbl> & <dbl> & <fct> & <fct> & <fct>\\\\\n",
       "\\hline\n",
       "\t1 & -3.1 & 37.3 & 43.1 & No  & Master      & Yes\\\\\n",
       "\t2 & -0.1 & 50.0 & 65.9 & No  & Bachelor    & No \\\\\n",
       "\t3 & -6.2 & 98.7 & 26.2 & Yes & High School & Yes\\\\\n",
       "\t4 & -0.3 & 67.4 & 49.1 & No  & Bachelor    & No \\\\\n",
       "\t5 & -1.0 & 85.5 & 56.8 & No  & Associate   & Yes\\\\\n",
       "\t6 & -1.5 & 67.2 & 68.5 & No  & Bachelor    & No \\\\\n",
       "\\end{tabular}\n"
      ],
      "text/markdown": [
       "\n",
       "A data.frame: 6 × 6\n",
       "\n",
       "| <!--/--> | study.hrs.perwk &lt;dbl&gt; | attendance.rate &lt;dbl&gt; | previous.grades &lt;dbl&gt; | extracurricular.activities &lt;fct&gt; | parent.edu.level &lt;fct&gt; | passed &lt;fct&gt; |\n",
       "|---|---|---|---|---|---|---|\n",
       "| 1 | -3.1 | 37.3 | 43.1 | No  | Master      | Yes |\n",
       "| 2 | -0.1 | 50.0 | 65.9 | No  | Bachelor    | No  |\n",
       "| 3 | -6.2 | 98.7 | 26.2 | Yes | High School | Yes |\n",
       "| 4 | -0.3 | 67.4 | 49.1 | No  | Bachelor    | No  |\n",
       "| 5 | -1.0 | 85.5 | 56.8 | No  | Associate   | Yes |\n",
       "| 6 | -1.5 | 67.2 | 68.5 | No  | Bachelor    | No  |\n",
       "\n"
      ],
      "text/plain": [
       "  study.hrs.perwk attendance.rate previous.grades extracurricular.activities\n",
       "1 -3.1            37.3            43.1            No                        \n",
       "2 -0.1            50.0            65.9            No                        \n",
       "3 -6.2            98.7            26.2            Yes                       \n",
       "4 -0.3            67.4            49.1            No                        \n",
       "5 -1.0            85.5            56.8            No                        \n",
       "6 -1.5            67.2            68.5            No                        \n",
       "  parent.edu.level passed\n",
       "1 Master           Yes   \n",
       "2 Bachelor         No    \n",
       "3 High School      Yes   \n",
       "4 Bachelor         No    \n",
       "5 Associate        Yes   \n",
       "6 Bachelor         No    "
      ]
     },
     "metadata": {},
     "output_type": "display_data"
    }
   ],
   "source": [
    "head(negative.hours)"
   ]
  },
  {
   "cell_type": "code",
   "execution_count": 284,
   "metadata": {
    "vscode": {
     "languageId": "r"
    }
   },
   "outputs": [],
   "source": [
    "# changing the negative values to positive\n",
    "df$study.hrs.perwk <- abs(df$study.hrs.perwk)"
   ]
  },
  {
   "cell_type": "markdown",
   "metadata": {},
   "source": [
    "## II. Negative Attendance Rate"
   ]
  },
  {
   "cell_type": "code",
   "execution_count": 285,
   "metadata": {
    "vscode": {
     "languageId": "r"
    }
   },
   "outputs": [],
   "source": [
    "# filtering the negative values\n",
    "low.attendance <- df %>% filter(attendance.rate < 0)"
   ]
  },
  {
   "cell_type": "code",
   "execution_count": 286,
   "metadata": {
    "vscode": {
     "languageId": "r"
    }
   },
   "outputs": [
    {
     "data": {
      "text/html": [
       "<table class=\"dataframe\">\n",
       "<caption>A data.frame: 4 × 6</caption>\n",
       "<thead>\n",
       "\t<tr><th></th><th scope=col>study.hrs.perwk</th><th scope=col>attendance.rate</th><th scope=col>previous.grades</th><th scope=col>extracurricular.activities</th><th scope=col>parent.edu.level</th><th scope=col>passed</th></tr>\n",
       "\t<tr><th></th><th scope=col>&lt;dbl&gt;</th><th scope=col>&lt;dbl&gt;</th><th scope=col>&lt;dbl&gt;</th><th scope=col>&lt;fct&gt;</th><th scope=col>&lt;fct&gt;</th><th scope=col>&lt;fct&gt;</th></tr>\n",
       "</thead>\n",
       "<tbody>\n",
       "\t<tr><th scope=row>1</th><td> 3.0</td><td> -8.2</td><td>78.8</td><td>No </td><td>Master     </td><td>Yes</td></tr>\n",
       "\t<tr><th scope=row>2</th><td> 7.9</td><td> -1.3</td><td>67.6</td><td>No </td><td>Bachelor   </td><td>Yes</td></tr>\n",
       "\t<tr><th scope=row>3</th><td>10.7</td><td> -3.8</td><td>80.9</td><td>Yes</td><td>High School</td><td>Yes</td></tr>\n",
       "\t<tr><th scope=row>4</th><td> 7.3</td><td>-14.3</td><td>61.3</td><td>Yes</td><td>Doctorate  </td><td>No </td></tr>\n",
       "</tbody>\n",
       "</table>\n"
      ],
      "text/latex": [
       "A data.frame: 4 × 6\n",
       "\\begin{tabular}{r|llllll}\n",
       "  & study.hrs.perwk & attendance.rate & previous.grades & extracurricular.activities & parent.edu.level & passed\\\\\n",
       "  & <dbl> & <dbl> & <dbl> & <fct> & <fct> & <fct>\\\\\n",
       "\\hline\n",
       "\t1 &  3.0 &  -8.2 & 78.8 & No  & Master      & Yes\\\\\n",
       "\t2 &  7.9 &  -1.3 & 67.6 & No  & Bachelor    & Yes\\\\\n",
       "\t3 & 10.7 &  -3.8 & 80.9 & Yes & High School & Yes\\\\\n",
       "\t4 &  7.3 & -14.3 & 61.3 & Yes & Doctorate   & No \\\\\n",
       "\\end{tabular}\n"
      ],
      "text/markdown": [
       "\n",
       "A data.frame: 4 × 6\n",
       "\n",
       "| <!--/--> | study.hrs.perwk &lt;dbl&gt; | attendance.rate &lt;dbl&gt; | previous.grades &lt;dbl&gt; | extracurricular.activities &lt;fct&gt; | parent.edu.level &lt;fct&gt; | passed &lt;fct&gt; |\n",
       "|---|---|---|---|---|---|---|\n",
       "| 1 |  3.0 |  -8.2 | 78.8 | No  | Master      | Yes |\n",
       "| 2 |  7.9 |  -1.3 | 67.6 | No  | Bachelor    | Yes |\n",
       "| 3 | 10.7 |  -3.8 | 80.9 | Yes | High School | Yes |\n",
       "| 4 |  7.3 | -14.3 | 61.3 | Yes | Doctorate   | No  |\n",
       "\n"
      ],
      "text/plain": [
       "  study.hrs.perwk attendance.rate previous.grades extracurricular.activities\n",
       "1  3.0             -8.2           78.8            No                        \n",
       "2  7.9             -1.3           67.6            No                        \n",
       "3 10.7             -3.8           80.9            Yes                       \n",
       "4  7.3            -14.3           61.3            Yes                       \n",
       "  parent.edu.level passed\n",
       "1 Master           Yes   \n",
       "2 Bachelor         Yes   \n",
       "3 High School      Yes   \n",
       "4 Doctorate        No    "
      ]
     },
     "metadata": {},
     "output_type": "display_data"
    }
   ],
   "source": [
    "head(low.attendance)"
   ]
  },
  {
   "cell_type": "code",
   "execution_count": 287,
   "metadata": {
    "vscode": {
     "languageId": "r"
    }
   },
   "outputs": [],
   "source": [
    "# changing the negative values to positive\n",
    "df$attendance.rate <- abs(df$attendance.rate)"
   ]
  },
  {
   "cell_type": "markdown",
   "metadata": {},
   "source": [
    "## III. Attendance Rate Higher than 100"
   ]
  },
  {
   "cell_type": "code",
   "execution_count": 288,
   "metadata": {
    "vscode": {
     "languageId": "r"
    }
   },
   "outputs": [],
   "source": [
    "# filtering values higher than 100\n",
    "high.attendance <- df %>% filter(attendance.rate > 100)"
   ]
  },
  {
   "cell_type": "code",
   "execution_count": 296,
   "metadata": {
    "vscode": {
     "languageId": "r"
    }
   },
   "outputs": [
    {
     "data": {
      "text/html": [
       "<table class=\"dataframe\">\n",
       "<caption>A data.frame: 6 × 6</caption>\n",
       "<thead>\n",
       "\t<tr><th></th><th scope=col>study.hrs.perwk</th><th scope=col>attendance.rate</th><th scope=col>previous.grades</th><th scope=col>extracurricular.activities</th><th scope=col>parent.edu.level</th><th scope=col>passed</th></tr>\n",
       "\t<tr><th></th><th scope=col>&lt;dbl&gt;</th><th scope=col>&lt;dbl&gt;</th><th scope=col>&lt;dbl&gt;</th><th scope=col>&lt;fct&gt;</th><th scope=col>&lt;fct&gt;</th><th scope=col>&lt;fct&gt;</th></tr>\n",
       "</thead>\n",
       "<tbody>\n",
       "\t<tr><th scope=row>1</th><td> 7.7</td><td>100.1</td><td>91.9</td><td>No </td><td>Bachelor </td><td>Yes</td></tr>\n",
       "\t<tr><th scope=row>2</th><td> 7.7</td><td>115.5</td><td>41.2</td><td>Yes</td><td>Master   </td><td>No </td></tr>\n",
       "\t<tr><th scope=row>3</th><td>17.3</td><td>110.3</td><td>68.6</td><td>No </td><td>Bachelor </td><td>Yes</td></tr>\n",
       "\t<tr><th scope=row>4</th><td> 7.0</td><td>111.0</td><td>44.3</td><td>No </td><td>Doctorate</td><td>Yes</td></tr>\n",
       "\t<tr><th scope=row>5</th><td> 9.4</td><td>125.8</td><td>59.9</td><td>Yes</td><td>Associate</td><td>No </td></tr>\n",
       "\t<tr><th scope=row>6</th><td> 1.2</td><td>118.9</td><td>70.5</td><td>No </td><td>Master   </td><td>Yes</td></tr>\n",
       "</tbody>\n",
       "</table>\n"
      ],
      "text/latex": [
       "A data.frame: 6 × 6\n",
       "\\begin{tabular}{r|llllll}\n",
       "  & study.hrs.perwk & attendance.rate & previous.grades & extracurricular.activities & parent.edu.level & passed\\\\\n",
       "  & <dbl> & <dbl> & <dbl> & <fct> & <fct> & <fct>\\\\\n",
       "\\hline\n",
       "\t1 &  7.7 & 100.1 & 91.9 & No  & Bachelor  & Yes\\\\\n",
       "\t2 &  7.7 & 115.5 & 41.2 & Yes & Master    & No \\\\\n",
       "\t3 & 17.3 & 110.3 & 68.6 & No  & Bachelor  & Yes\\\\\n",
       "\t4 &  7.0 & 111.0 & 44.3 & No  & Doctorate & Yes\\\\\n",
       "\t5 &  9.4 & 125.8 & 59.9 & Yes & Associate & No \\\\\n",
       "\t6 &  1.2 & 118.9 & 70.5 & No  & Master    & Yes\\\\\n",
       "\\end{tabular}\n"
      ],
      "text/markdown": [
       "\n",
       "A data.frame: 6 × 6\n",
       "\n",
       "| <!--/--> | study.hrs.perwk &lt;dbl&gt; | attendance.rate &lt;dbl&gt; | previous.grades &lt;dbl&gt; | extracurricular.activities &lt;fct&gt; | parent.edu.level &lt;fct&gt; | passed &lt;fct&gt; |\n",
       "|---|---|---|---|---|---|---|\n",
       "| 1 |  7.7 | 100.1 | 91.9 | No  | Bachelor  | Yes |\n",
       "| 2 |  7.7 | 115.5 | 41.2 | Yes | Master    | No  |\n",
       "| 3 | 17.3 | 110.3 | 68.6 | No  | Bachelor  | Yes |\n",
       "| 4 |  7.0 | 111.0 | 44.3 | No  | Doctorate | Yes |\n",
       "| 5 |  9.4 | 125.8 | 59.9 | Yes | Associate | No  |\n",
       "| 6 |  1.2 | 118.9 | 70.5 | No  | Master    | Yes |\n",
       "\n"
      ],
      "text/plain": [
       "  study.hrs.perwk attendance.rate previous.grades extracurricular.activities\n",
       "1  7.7            100.1           91.9            No                        \n",
       "2  7.7            115.5           41.2            Yes                       \n",
       "3 17.3            110.3           68.6            No                        \n",
       "4  7.0            111.0           44.3            No                        \n",
       "5  9.4            125.8           59.9            Yes                       \n",
       "6  1.2            118.9           70.5            No                        \n",
       "  parent.edu.level passed\n",
       "1 Bachelor         Yes   \n",
       "2 Master           No    \n",
       "3 Bachelor         Yes   \n",
       "4 Doctorate        Yes   \n",
       "5 Associate        No    \n",
       "6 Master           Yes   "
      ]
     },
     "metadata": {},
     "output_type": "display_data"
    }
   ],
   "source": [
    "head(high.attendance)"
   ]
  },
  {
   "cell_type": "code",
   "execution_count": 290,
   "metadata": {
    "vscode": {
     "languageId": "r"
    }
   },
   "outputs": [],
   "source": [
    "# removing values higher than 100\n",
    "df <- df[df$attendance.rate <= 100, ]"
   ]
  },
  {
   "cell_type": "markdown",
   "metadata": {},
   "source": [
    "## IV. Grades Higher than 100"
   ]
  },
  {
   "cell_type": "code",
   "execution_count": 291,
   "metadata": {
    "vscode": {
     "languageId": "r"
    }
   },
   "outputs": [],
   "source": [
    "# filtering values higher than 100\n",
    "high.grades <- df %>% filter(previous.grades > 100)"
   ]
  },
  {
   "cell_type": "code",
   "execution_count": 292,
   "metadata": {
    "vscode": {
     "languageId": "r"
    }
   },
   "outputs": [
    {
     "data": {
      "text/html": [
       "<table class=\"dataframe\">\n",
       "<caption>A data.frame: 6 × 6</caption>\n",
       "<thead>\n",
       "\t<tr><th></th><th scope=col>study.hrs.perwk</th><th scope=col>attendance.rate</th><th scope=col>previous.grades</th><th scope=col>extracurricular.activities</th><th scope=col>parent.edu.level</th><th scope=col>passed</th></tr>\n",
       "\t<tr><th></th><th scope=col>&lt;dbl&gt;</th><th scope=col>&lt;dbl&gt;</th><th scope=col>&lt;dbl&gt;</th><th scope=col>&lt;fct&gt;</th><th scope=col>&lt;fct&gt;</th><th scope=col>&lt;fct&gt;</th></tr>\n",
       "</thead>\n",
       "<tbody>\n",
       "\t<tr><th scope=row>1</th><td>11.3</td><td>67.3</td><td>200</td><td>Yes</td><td>Master     </td><td>Yes</td></tr>\n",
       "\t<tr><th scope=row>2</th><td>13.6</td><td>59.4</td><td>102</td><td>Yes</td><td>High School</td><td>No </td></tr>\n",
       "\t<tr><th scope=row>3</th><td>11.2</td><td>62.7</td><td>200</td><td>Yes</td><td>Associate  </td><td>Yes</td></tr>\n",
       "\t<tr><th scope=row>4</th><td>10.4</td><td>76.2</td><td>200</td><td>No </td><td>Master     </td><td>Yes</td></tr>\n",
       "\t<tr><th scope=row>5</th><td> 6.1</td><td>71.5</td><td>104</td><td>No </td><td>High School</td><td>Yes</td></tr>\n",
       "\t<tr><th scope=row>6</th><td> 5.1</td><td>27.4</td><td>200</td><td>Yes</td><td>High School</td><td>No </td></tr>\n",
       "</tbody>\n",
       "</table>\n"
      ],
      "text/latex": [
       "A data.frame: 6 × 6\n",
       "\\begin{tabular}{r|llllll}\n",
       "  & study.hrs.perwk & attendance.rate & previous.grades & extracurricular.activities & parent.edu.level & passed\\\\\n",
       "  & <dbl> & <dbl> & <dbl> & <fct> & <fct> & <fct>\\\\\n",
       "\\hline\n",
       "\t1 & 11.3 & 67.3 & 200 & Yes & Master      & Yes\\\\\n",
       "\t2 & 13.6 & 59.4 & 102 & Yes & High School & No \\\\\n",
       "\t3 & 11.2 & 62.7 & 200 & Yes & Associate   & Yes\\\\\n",
       "\t4 & 10.4 & 76.2 & 200 & No  & Master      & Yes\\\\\n",
       "\t5 &  6.1 & 71.5 & 104 & No  & High School & Yes\\\\\n",
       "\t6 &  5.1 & 27.4 & 200 & Yes & High School & No \\\\\n",
       "\\end{tabular}\n"
      ],
      "text/markdown": [
       "\n",
       "A data.frame: 6 × 6\n",
       "\n",
       "| <!--/--> | study.hrs.perwk &lt;dbl&gt; | attendance.rate &lt;dbl&gt; | previous.grades &lt;dbl&gt; | extracurricular.activities &lt;fct&gt; | parent.edu.level &lt;fct&gt; | passed &lt;fct&gt; |\n",
       "|---|---|---|---|---|---|---|\n",
       "| 1 | 11.3 | 67.3 | 200 | Yes | Master      | Yes |\n",
       "| 2 | 13.6 | 59.4 | 102 | Yes | High School | No  |\n",
       "| 3 | 11.2 | 62.7 | 200 | Yes | Associate   | Yes |\n",
       "| 4 | 10.4 | 76.2 | 200 | No  | Master      | Yes |\n",
       "| 5 |  6.1 | 71.5 | 104 | No  | High School | Yes |\n",
       "| 6 |  5.1 | 27.4 | 200 | Yes | High School | No  |\n",
       "\n"
      ],
      "text/plain": [
       "  study.hrs.perwk attendance.rate previous.grades extracurricular.activities\n",
       "1 11.3            67.3            200             Yes                       \n",
       "2 13.6            59.4            102             Yes                       \n",
       "3 11.2            62.7            200             Yes                       \n",
       "4 10.4            76.2            200             No                        \n",
       "5  6.1            71.5            104             No                        \n",
       "6  5.1            27.4            200             Yes                       \n",
       "  parent.edu.level passed\n",
       "1 Master           Yes   \n",
       "2 High School      No    \n",
       "3 Associate        Yes   \n",
       "4 Master           Yes   \n",
       "5 High School      Yes   \n",
       "6 High School      No    "
      ]
     },
     "metadata": {},
     "output_type": "display_data"
    }
   ],
   "source": [
    "head(high.grades)"
   ]
  },
  {
   "cell_type": "code",
   "execution_count": 293,
   "metadata": {
    "vscode": {
     "languageId": "r"
    }
   },
   "outputs": [],
   "source": [
    "# removing values higher than 100\n",
    "df <- df[df$previous.grades <= 100, ]"
   ]
  },
  {
   "cell_type": "markdown",
   "metadata": {},
   "source": [
    "## V. Check if the Changes have been Applied"
   ]
  },
  {
   "cell_type": "code",
   "execution_count": 294,
   "metadata": {
    "vscode": {
     "languageId": "r"
    }
   },
   "outputs": [
    {
     "data": {
      "text/plain": [
       " study.hrs.perwk attendance.rate  previous.grades \n",
       " Min.   : 0.00   Min.   :  0.50   Min.   :  8.30  \n",
       " 1st Qu.: 6.60   1st Qu.: 59.80   1st Qu.: 54.80  \n",
       " Median :10.00   Median : 72.50   Median : 65.00  \n",
       " Mean   :10.04   Mean   : 70.98   Mean   : 64.67  \n",
       " 3rd Qu.:13.40   3rd Qu.: 83.90   3rd Qu.: 74.70  \n",
       " Max.   :32.40   Max.   :100.00   Max.   :100.00  "
      ]
     },
     "metadata": {},
     "output_type": "display_data"
    }
   ],
   "source": [
    "# checking if the values are right\n",
    "summary(df[1:3])"
   ]
  },
  {
   "cell_type": "markdown",
   "metadata": {},
   "source": [
    "# 8. Outlier data handling"
   ]
  },
  {
   "cell_type": "code",
   "execution_count": 303,
   "metadata": {
    "vscode": {
     "languageId": "r"
    }
   },
   "outputs": [
    {
     "data": {
      "image/png": "[encoded data removed]",
      "text/plain": [
       "plot without title"
      ]
     },
     "metadata": {
      "image/png": {
       "height": 420,
       "width": 420
      }
     },
     "output_type": "display_data"
    },
    {
     "data": {
      "image/png": "[encoded data removed]",
      "text/plain": [
       "plot without title"
      ]
     },
     "metadata": {
      "image/png": {
       "height": 420,
       "width": 420
      }
     },
     "output_type": "display_data"
    },
    {
     "data": {
      "image/png": "[encoded data removed]",
      "text/plain": [
       "plot without title"
      ]
     },
     "metadata": {
      "image/png": {
       "height": 420,
       "width": 420
      }
     },
     "output_type": "display_data"
    }
   ],
   "source": [
    "ggplot(df, aes(x = \"\", y = study.hrs.perwk)) +\n",
    "  geom_boxplot(fill = \"#4C72B0\", color = \"black\", outlier.shape = 21, \n",
    "               outlier.fill = \"red\", outlier.size = 3) +\n",
    "  labs(title = \"Study Hours per Week\",\n",
    "       x = \"\",\n",
    "       y = \"Study Hours per Week\") +\n",
    "  theme_minimal() +\n",
    "  theme(\n",
    "    plot.title = element_text(hjust = 0.5, face = \"bold\", size = 16)\n",
    "  )\n",
    "\n",
    "ggplot(df, aes(x = \"\", y = attendance.rate)) +\n",
    "  geom_boxplot(fill = \"#4C72B0\", color = \"black\", outlier.shape = 21, \n",
    "               outlier.fill = \"red\", outlier.size = 3) +\n",
    "  labs(title = \"Attendance Rate\",\n",
    "       x = \"\",\n",
    "       y = \"Attendance Rate\") +\n",
    "  theme_minimal() +\n",
    "  theme(\n",
    "    plot.title = element_text(hjust = 0.5, face = \"bold\", size = 16)\n",
    "  )\n",
    "\n",
    "ggplot(df, aes(x = \"\", y = previous.grades)) +\n",
    "  geom_boxplot(fill = \"#4C72B0\", color = \"black\", outlier.shape = 21, \n",
    "               outlier.fill = \"red\", outlier.size = 3) +\n",
    "  labs(title = \"Previous Grades\",\n",
    "       x = \"\",\n",
    "       y = \"Previous Grades\") +\n",
    "  theme_minimal() +\n",
    "  theme(\n",
    "    plot.title = element_text(hjust = 0.5, face = \"bold\", size = 16)\n",
    "  )"
   ]
  },
  {
   "cell_type": "code",
   "execution_count": 310,
   "metadata": {
    "vscode": {
     "languageId": "r"
    }
   },
   "outputs": [],
   "source": [
    "# filtering the outliers\n",
    "outliers_study.hrs.perwk <- boxplot(df$study.hrs.perwk, plot=FALSE)$out\n",
    "outliers_attendance.rate <- boxplot(df$attendance.rate, plot=FALSE)$out\n",
    "outliers_previous.grades <- boxplot(df$previous.grades, plot=FALSE)$out"
   ]
  },
  {
   "cell_type": "code",
   "execution_count": 311,
   "metadata": {
    "vscode": {
     "languageId": "r"
    }
   },
   "outputs": [],
   "source": [
    "exclude_study_h <- !df$study.hrs.perwk %in% outliers_study.hrs.perwk\n",
    "exclude_attendance <- !df$attendance.rate %in% outliers_attendance.rate\n",
    "exclude_previous_grades <- !df$previous.grades %in% outliers_previous.grades"
   ]
  },
  {
   "cell_type": "code",
   "execution_count": 312,
   "metadata": {
    "vscode": {
     "languageId": "r"
    }
   },
   "outputs": [],
   "source": [
    "# removing the outliers\n",
    "data_without_outliers <- df[exclude_study_h & exclude_attendance & exclude_previous_grades, ]"
   ]
  },
  {
   "cell_type": "code",
   "execution_count": 322,
   "metadata": {
    "vscode": {
     "languageId": "r"
    }
   },
   "outputs": [
    {
     "data": {
      "text/html": [
       "<style>\n",
       ".list-inline {list-style: none; margin:0; padding: 0}\n",
       ".list-inline>li {display: inline-block}\n",
       ".list-inline>li:not(:last-child)::after {content: \"\\00b7\"; padding: 0 .5ex}\n",
       "</style>\n",
       "<ol class=list-inline><li>23.6</li><li>23.6</li><li>23.6</li><li>23.6</li><li>23.6</li></ol>\n"
      ],
      "text/latex": [
       "\\begin{enumerate*}\n",
       "\\item 23.6\n",
       "\\item 23.6\n",
       "\\item 23.6\n",
       "\\item 23.6\n",
       "\\item 23.6\n",
       "\\end{enumerate*}\n"
      ],
      "text/markdown": [
       "1. 23.6\n",
       "2. 23.6\n",
       "3. 23.6\n",
       "4. 23.6\n",
       "5. 23.6\n",
       "\n",
       "\n"
      ],
      "text/plain": [
       "[1] 23.6 23.6 23.6 23.6 23.6"
      ]
     },
     "metadata": {},
     "output_type": "display_data"
    },
    {
     "data": {
      "text/html": [
       "<style>\n",
       ".list-inline {list-style: none; margin:0; padding: 0}\n",
       ".list-inline>li {display: inline-block}\n",
       ".list-inline>li:not(:last-child)::after {content: \"\\00b7\"; padding: 0 .5ex}\n",
       "</style>\n",
       "<ol class=list-inline><li>24</li><li>24</li><li>23.9</li><li>23.7</li><li>24</li><li>24.1</li><li>24.2</li><li>24</li><li>23.8</li><li>24.1</li><li>24.2</li><li>23.8</li><li>23.7</li><li>23.7</li><li>23.8</li><li>23.8</li><li>24</li></ol>\n"
      ],
      "text/latex": [
       "\\begin{enumerate*}\n",
       "\\item 24\n",
       "\\item 24\n",
       "\\item 23.9\n",
       "\\item 23.7\n",
       "\\item 24\n",
       "\\item 24.1\n",
       "\\item 24.2\n",
       "\\item 24\n",
       "\\item 23.8\n",
       "\\item 24.1\n",
       "\\item 24.2\n",
       "\\item 23.8\n",
       "\\item 23.7\n",
       "\\item 23.7\n",
       "\\item 23.8\n",
       "\\item 23.8\n",
       "\\item 24\n",
       "\\end{enumerate*}\n"
      ],
      "text/markdown": [
       "1. 24\n",
       "2. 24\n",
       "3. 23.9\n",
       "4. 23.7\n",
       "5. 24\n",
       "6. 24.1\n",
       "7. 24.2\n",
       "8. 24\n",
       "9. 23.8\n",
       "10. 24.1\n",
       "11. 24.2\n",
       "12. 23.8\n",
       "13. 23.7\n",
       "14. 23.7\n",
       "15. 23.8\n",
       "16. 23.8\n",
       "17. 24\n",
       "\n",
       "\n"
      ],
      "text/plain": [
       " [1] 24.0 24.0 23.9 23.7 24.0 24.1 24.2 24.0 23.8 24.1 24.2 23.8 23.7 23.7 23.8\n",
       "[16] 23.8 24.0"
      ]
     },
     "metadata": {},
     "output_type": "display_data"
    },
    {
     "data": {
      "text/html": [],
      "text/latex": [],
      "text/markdown": [],
      "text/plain": [
       "numeric(0)"
      ]
     },
     "metadata": {},
     "output_type": "display_data"
    }
   ],
   "source": [
    "# checking outliers\n",
    "boxplot(data_without_outliers$study.hrs.perwk, plot=FALSE)$out\n",
    "boxplot(data_without_outliers$attendance.rate, plot=FALSE)$out\n",
    "boxplot(data_without_outliers$previous.grades, plot=FALSE)$out"
   ]
  },
  {
   "cell_type": "markdown",
   "metadata": {},
   "source": [
    "# 9. Data Validation"
   ]
  },
  {
   "cell_type": "markdown",
   "metadata": {},
   "source": [
    "## I. Review General Data Integrity"
   ]
  },
  {
   "cell_type": "code",
   "execution_count": 338,
   "metadata": {
    "vscode": {
     "languageId": "r"
    }
   },
   "outputs": [
    {
     "data": {
      "text/html": [
       "<table class=\"dataframe\">\n",
       "<caption>A data.frame: 6 × 6</caption>\n",
       "<thead>\n",
       "\t<tr><th></th><th scope=col>study.hrs.perwk</th><th scope=col>attendance.rate</th><th scope=col>previous.grades</th><th scope=col>extracurricular.activities</th><th scope=col>parent.edu.level</th><th scope=col>passed</th></tr>\n",
       "\t<tr><th></th><th scope=col>&lt;dbl&gt;</th><th scope=col>&lt;dbl&gt;</th><th scope=col>&lt;dbl&gt;</th><th scope=col>&lt;fct&gt;</th><th scope=col>&lt;fct&gt;</th><th scope=col>&lt;fct&gt;</th></tr>\n",
       "</thead>\n",
       "<tbody>\n",
       "\t<tr><th scope=row>2</th><td> 9.3</td><td>95.3</td><td>60.6</td><td>No </td><td>High School</td><td>No </td></tr>\n",
       "\t<tr><th scope=row>4</th><td>17.6</td><td>76.8</td><td>62.4</td><td>Yes</td><td>Bachelor   </td><td>No </td></tr>\n",
       "\t<tr><th scope=row>5</th><td> 8.8</td><td>89.3</td><td>72.7</td><td>No </td><td>Master     </td><td>No </td></tr>\n",
       "\t<tr><th scope=row>6</th><td> 8.8</td><td>73.8</td><td>69.3</td><td>Yes</td><td>High School</td><td>Yes</td></tr>\n",
       "\t<tr><th scope=row>7</th><td>17.9</td><td>38.6</td><td>93.6</td><td>No </td><td>Doctorate  </td><td>Yes</td></tr>\n",
       "\t<tr><th scope=row>8</th><td>13.8</td><td>95.8</td><td>59.2</td><td>Yes</td><td>Doctorate  </td><td>No </td></tr>\n",
       "</tbody>\n",
       "</table>\n"
      ],
      "text/latex": [
       "A data.frame: 6 × 6\n",
       "\\begin{tabular}{r|llllll}\n",
       "  & study.hrs.perwk & attendance.rate & previous.grades & extracurricular.activities & parent.edu.level & passed\\\\\n",
       "  & <dbl> & <dbl> & <dbl> & <fct> & <fct> & <fct>\\\\\n",
       "\\hline\n",
       "\t2 &  9.3 & 95.3 & 60.6 & No  & High School & No \\\\\n",
       "\t4 & 17.6 & 76.8 & 62.4 & Yes & Bachelor    & No \\\\\n",
       "\t5 &  8.8 & 89.3 & 72.7 & No  & Master      & No \\\\\n",
       "\t6 &  8.8 & 73.8 & 69.3 & Yes & High School & Yes\\\\\n",
       "\t7 & 17.9 & 38.6 & 93.6 & No  & Doctorate   & Yes\\\\\n",
       "\t8 & 13.8 & 95.8 & 59.2 & Yes & Doctorate   & No \\\\\n",
       "\\end{tabular}\n"
      ],
      "text/markdown": [
       "\n",
       "A data.frame: 6 × 6\n",
       "\n",
       "| <!--/--> | study.hrs.perwk &lt;dbl&gt; | attendance.rate &lt;dbl&gt; | previous.grades &lt;dbl&gt; | extracurricular.activities &lt;fct&gt; | parent.edu.level &lt;fct&gt; | passed &lt;fct&gt; |\n",
       "|---|---|---|---|---|---|---|\n",
       "| 2 |  9.3 | 95.3 | 60.6 | No  | High School | No  |\n",
       "| 4 | 17.6 | 76.8 | 62.4 | Yes | Bachelor    | No  |\n",
       "| 5 |  8.8 | 89.3 | 72.7 | No  | Master      | No  |\n",
       "| 6 |  8.8 | 73.8 | 69.3 | Yes | High School | Yes |\n",
       "| 7 | 17.9 | 38.6 | 93.6 | No  | Doctorate   | Yes |\n",
       "| 8 | 13.8 | 95.8 | 59.2 | Yes | Doctorate   | No  |\n",
       "\n"
      ],
      "text/plain": [
       "  study.hrs.perwk attendance.rate previous.grades extracurricular.activities\n",
       "2  9.3            95.3            60.6            No                        \n",
       "4 17.6            76.8            62.4            Yes                       \n",
       "5  8.8            89.3            72.7            No                        \n",
       "6  8.8            73.8            69.3            Yes                       \n",
       "7 17.9            38.6            93.6            No                        \n",
       "8 13.8            95.8            59.2            Yes                       \n",
       "  parent.edu.level passed\n",
       "2 High School      No    \n",
       "4 Bachelor         No    \n",
       "5 Master           No    \n",
       "6 High School      Yes   \n",
       "7 Doctorate        Yes   \n",
       "8 Doctorate        No    "
      ]
     },
     "metadata": {},
     "output_type": "display_data"
    }
   ],
   "source": [
    "head(data_without_outliers)"
   ]
  },
  {
   "cell_type": "markdown",
   "metadata": {},
   "source": [
    "## II. Review Data Structure"
   ]
  },
  {
   "cell_type": "code",
   "execution_count": 323,
   "metadata": {
    "vscode": {
     "languageId": "r"
    }
   },
   "outputs": [
    {
     "name": "stdout",
     "output_type": "stream",
     "text": [
      "'data.frame':\t25574 obs. of  6 variables:\n",
      " $ study.hrs.perwk           : num  9.3 17.6 8.8 8.8 17.9 13.8 7.7 1.4 7.2 4.9 ...\n",
      " $ attendance.rate           : num  95.3 76.8 89.3 73.8 38.6 95.8 54.1 66.5 54.4 71.1 ...\n",
      " $ previous.grades           : num  60.6 62.4 72.7 69.3 93.6 59.2 72.3 49.2 55.9 98 ...\n",
      " $ extracurricular.activities: Factor w/ 2 levels \"No\",\"Yes\": 1 2 1 2 1 2 1 1 2 2 ...\n",
      " $ parent.edu.level          : Factor w/ 5 levels \"Associate\",\"Bachelor\",..: 4 2 5 4 3 3 5 1 4 4 ...\n",
      " $ passed                    : Factor w/ 2 levels \"No\",\"Yes\": 1 1 1 2 2 1 1 2 1 1 ...\n",
      " - attr(*, \"na.action\")= 'omit' Named int [1:10554] 1 3 10 13 14 26 27 41 44 49 ...\n",
      "  ..- attr(*, \"names\")= chr [1:10554] \"1\" \"3\" \"10\" \"13\" ...\n"
     ]
    }
   ],
   "source": [
    "str(data_without_outliers)"
   ]
  },
  {
   "cell_type": "markdown",
   "metadata": {},
   "source": [
    "## III. Check Descriptive Statistics"
   ]
  },
  {
   "cell_type": "code",
   "execution_count": 326,
   "metadata": {
    "vscode": {
     "languageId": "r"
    }
   },
   "outputs": [
    {
     "data": {
      "text/plain": [
       " study.hrs.perwk  attendance.rate previous.grades \n",
       " Min.   : 0.000   Min.   : 23.7   Min.   : 25.10  \n",
       " 1st Qu.: 6.500   1st Qu.: 60.1   1st Qu.: 54.90  \n",
       " Median : 9.900   Median : 72.6   Median : 65.10  \n",
       " Mean   : 9.994   Mean   : 71.3   Mean   : 64.82  \n",
       " 3rd Qu.:13.300   3rd Qu.: 84.0   3rd Qu.: 74.80  \n",
       " Max.   :23.600   Max.   :100.0   Max.   :100.00  "
      ]
     },
     "metadata": {},
     "output_type": "display_data"
    }
   ],
   "source": [
    "summary(data_without_outliers[1:3])"
   ]
  },
  {
   "cell_type": "code",
   "execution_count": 327,
   "metadata": {
    "vscode": {
     "languageId": "r"
    }
   },
   "outputs": [
    {
     "data": {
      "text/plain": [
       " extracurricular.activities    parent.edu.level passed     \n",
       " No :12797                  Associate  :5168    No :12896  \n",
       " Yes:12777                  Bachelor   :5169    Yes:12678  \n",
       "                            Doctorate  :5131               \n",
       "                            High School:5119               \n",
       "                            Master     :4987               "
      ]
     },
     "metadata": {},
     "output_type": "display_data"
    }
   ],
   "source": [
    "summary(data_without_outliers[4:6])"
   ]
  },
  {
   "cell_type": "markdown",
   "metadata": {},
   "source": [
    "## IV. Check Null and Void Values"
   ]
  },
  {
   "cell_type": "code",
   "execution_count": 328,
   "metadata": {
    "vscode": {
     "languageId": "r"
    }
   },
   "outputs": [
    {
     "data": {
      "text/html": [
       "0"
      ],
      "text/latex": [
       "0"
      ],
      "text/markdown": [
       "0"
      ],
      "text/plain": [
       "[1] 0"
      ]
     },
     "metadata": {},
     "output_type": "display_data"
    }
   ],
   "source": [
    "sum(is.na(data_without_outliers))"
   ]
  },
  {
   "cell_type": "markdown",
   "metadata": {},
   "source": [
    "## V. Verify the Presence of Duplicates"
   ]
  },
  {
   "cell_type": "code",
   "execution_count": 329,
   "metadata": {
    "vscode": {
     "languageId": "r"
    }
   },
   "outputs": [
    {
     "data": {
      "text/html": [
       "0"
      ],
      "text/latex": [
       "0"
      ],
      "text/markdown": [
       "0"
      ],
      "text/plain": [
       "[1] 0"
      ]
     },
     "metadata": {},
     "output_type": "display_data"
    }
   ],
   "source": [
    "sum(duplicated(data_without_outliers))"
   ]
  },
  {
   "cell_type": "markdown",
   "metadata": {},
   "source": [
    "## VI. Inspect Outliers"
   ]
  },
  {
   "cell_type": "code",
   "execution_count": 330,
   "metadata": {
    "vscode": {
     "languageId": "r"
    }
   },
   "outputs": [
    {
     "data": {
      "image/png": "[encoded data removed]",
      "text/plain": [
       "plot without title"
      ]
     },
     "metadata": {
      "image/png": {
       "height": 420,
       "width": 420
      }
     },
     "output_type": "display_data"
    },
    {
     "data": {
      "image/png": "[encoded data removed]",
      "text/plain": [
       "plot without title"
      ]
     },
     "metadata": {
      "image/png": {
       "height": 420,
       "width": 420
      }
     },
     "output_type": "display_data"
    },
    {
     "data": {
      "image/png": "[encoded data removed]",
      "text/plain": [
       "plot without title"
      ]
     },
     "metadata": {
      "image/png": {
       "height": 420,
       "width": 420
      }
     },
     "output_type": "display_data"
    }
   ],
   "source": [
    "ggplot(data_without_outliers, aes(x = \"\", y = study.hrs.perwk)) +\n",
    "  geom_boxplot(fill = \"#4C72B0\", color = \"black\", outlier.shape = 21, \n",
    "               outlier.fill = \"red\", outlier.size = 3) +\n",
    "  labs(title = \"Study Hours per Week\",\n",
    "       x = \"\",\n",
    "       y = \"Study Hours per Week\") +\n",
    "  theme_minimal() +\n",
    "  theme(\n",
    "    plot.title = element_text(hjust = 0.5, face = \"bold\", size = 16)\n",
    "  )\n",
    "\n",
    "ggplot(data_without_outliers, aes(x = \"\", y = attendance.rate)) +\n",
    "  geom_boxplot(fill = \"#4C72B0\", color = \"black\", outlier.shape = 21, \n",
    "               outlier.fill = \"red\", outlier.size = 3) +\n",
    "  labs(title = \"Attendance Rate\",\n",
    "       x = \"\",\n",
    "       y = \"Attendance Rate\") +\n",
    "  theme_minimal() +\n",
    "  theme(\n",
    "    plot.title = element_text(hjust = 0.5, face = \"bold\", size = 16)\n",
    "  )\n",
    "\n",
    "ggplot(data_without_outliers, aes(x = \"\", y = previous.grades)) +\n",
    "  geom_boxplot(fill = \"#4C72B0\", color = \"black\", outlier.shape = 21, \n",
    "               outlier.fill = \"red\", outlier.size = 3) +\n",
    "  labs(title = \"Previous Grades\",\n",
    "       x = \"\",\n",
    "       y = \"Previous Grades\") +\n",
    "  theme_minimal() +\n",
    "  theme(\n",
    "    plot.title = element_text(hjust = 0.5, face = \"bold\", size = 16)\n",
    "  )"
   ]
  },
  {
   "cell_type": "markdown",
   "metadata": {},
   "source": [
    "# 10. Save the Cleaned Data in a Dataset"
   ]
  },
  {
   "cell_type": "code",
   "execution_count": 335,
   "metadata": {
    "vscode": {
     "languageId": "r"
    }
   },
   "outputs": [],
   "source": [
    "write.csv(data_without_outliers, \"assets/datasets/student_data_cleaned.csv\", row.names = FALSE)"
   ]
  }
 ],
 "metadata": {
  "kernelspec": {
   "display_name": "R",
   "language": "R",
   "name": "ir"
  },
  "language_info": {
   "codemirror_mode": "r",
   "file_extension": ".r",
   "mimetype": "text/x-r-source",
   "name": "R",
   "pygments_lexer": "r",
   "version": "4.4.1"
  }
 },
 "nbformat": 4,
 "nbformat_minor": 2
}
