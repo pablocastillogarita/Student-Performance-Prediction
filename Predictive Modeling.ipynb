{
 "cells": [
  {
   "cell_type": "code",
   "execution_count": 1,
   "metadata": {
    "vscode": {
     "languageId": "r"
    }
   },
   "outputs": [
    {
     "name": "stderr",
     "output_type": "stream",
     "text": [
      "Cargando paquete requerido: ggplot2\n",
      "\n",
      "Cargando paquete requerido: lattice\n",
      "\n",
      "\n",
      "Adjuntando el paquete: 'kknn'\n",
      "\n",
      "\n",
      "The following object is masked from 'package:caret':\n",
      "\n",
      "    contr.dummy\n",
      "\n",
      "\n",
      "randomForest 4.7-1.1\n",
      "\n",
      "Type rfNews() to see new features/changes/bug fixes.\n",
      "\n",
      "\n",
      "Adjuntando el paquete: 'randomForest'\n",
      "\n",
      "\n",
      "The following object is masked from 'package:ggplot2':\n",
      "\n",
      "    margin\n",
      "\n",
      "\n"
     ]
    }
   ],
   "source": [
    "library(caTools) # train-test dataset\n",
    "library(caret) # confusionMatrix\n",
    "\n",
    "# predictive models\n",
    "library(kknn)\n",
    "library(rpart)\n",
    "library(randomForest)\n",
    "library(e1071)"
   ]
  },
  {
   "cell_type": "code",
   "execution_count": 2,
   "metadata": {
    "vscode": {
     "languageId": "r"
    }
   },
   "outputs": [],
   "source": [
    "df <- read.csv(\"student_data_cleaned.csv\", stringsAsFactors = TRUE)"
   ]
  },
  {
   "cell_type": "code",
   "execution_count": 3,
   "metadata": {
    "vscode": {
     "languageId": "r"
    }
   },
   "outputs": [
    {
     "name": "stdout",
     "output_type": "stream",
     "text": [
      "'data.frame':\t25574 obs. of  6 variables:\n",
      " $ study.hrs.perwk           : num  9.3 17.6 8.8 8.8 17.9 13.8 7.7 1.4 7.2 4.9 ...\n",
      " $ attendance.rate           : num  95.3 76.8 89.3 73.8 38.6 95.8 54.1 66.5 54.4 71.1 ...\n",
      " $ previous.grades           : num  60.6 62.4 72.7 69.3 93.6 59.2 72.3 49.2 55.9 98 ...\n",
      " $ extracurricular.activities: Factor w/ 2 levels \"No\",\"Yes\": 1 2 1 2 1 2 1 1 2 2 ...\n",
      " $ parent.edu.level          : Factor w/ 5 levels \"Associate\",\"Bachelor\",..: 4 2 5 4 3 3 5 1 4 4 ...\n",
      " $ passed                    : Factor w/ 2 levels \"No\",\"Yes\": 1 1 1 2 2 1 1 2 1 1 ...\n"
     ]
    }
   ],
   "source": [
    "str(df)"
   ]
  },
  {
   "cell_type": "code",
   "execution_count": 4,
   "metadata": {
    "vscode": {
     "languageId": "r"
    }
   },
   "outputs": [],
   "source": [
    "set.seed(123)\n",
    "\n",
    "# split of 70-30\n",
    "div.obs <- sample.split(df$passed, SplitRatio = 0.7)\n",
    "trainset <- df[div.obs, ]\n",
    "testset <- df[!div.obs, ]"
   ]
  },
  {
   "cell_type": "code",
   "execution_count": 5,
   "metadata": {
    "vscode": {
     "languageId": "r"
    }
   },
   "outputs": [],
   "source": [
    "set.seed(123)\n",
    "\n",
    "model_kknn <- train.kknn(passed ~ ., data = trainset, kmax = floor(sqrt(dim(df)[1])))\n",
    "kknn_predict <- predict(model_kknn, testset[, -6])"
   ]
  },
  {
   "cell_type": "code",
   "execution_count": 6,
   "metadata": {
    "vscode": {
     "languageId": "r"
    }
   },
   "outputs": [
    {
     "data": {
      "text/plain": [
       "Confusion Matrix and Statistics\n",
       "\n",
       "          Reference\n",
       "Prediction   No  Yes\n",
       "       No  1950 1937\n",
       "       Yes 1919 1866\n",
       "                                          \n",
       "               Accuracy : 0.4974          \n",
       "                 95% CI : (0.4861, 0.5086)\n",
       "    No Information Rate : 0.5043          \n",
       "    P-Value [Acc > NIR] : 0.8891          \n",
       "                                          \n",
       "                  Kappa : -0.0053         \n",
       "                                          \n",
       " Mcnemar's Test P-Value : 0.7843          \n",
       "                                          \n",
       "            Sensitivity : 0.4907          \n",
       "            Specificity : 0.5040          \n",
       "         Pos Pred Value : 0.4930          \n",
       "         Neg Pred Value : 0.5017          \n",
       "             Prevalence : 0.4957          \n",
       "         Detection Rate : 0.2432          \n",
       "   Detection Prevalence : 0.4934          \n",
       "      Balanced Accuracy : 0.4973          \n",
       "                                          \n",
       "       'Positive' Class : Yes             \n",
       "                                          "
      ]
     },
     "metadata": {},
     "output_type": "display_data"
    }
   ],
   "source": [
    "cm_kknn <- confusionMatrix(kknn_predict, testset$passed, positive = \"Yes\")\n",
    "cm_kknn"
   ]
  },
  {
   "cell_type": "code",
   "execution_count": 7,
   "metadata": {
    "vscode": {
     "languageId": "r"
    }
   },
   "outputs": [],
   "source": [
    "set.seed(123)\n",
    "\n",
    "model_rpart <- rpart(passed ~ ., data = trainset)\n",
    "rpart_predict <- predict(model_rpart, testset, type = \"class\")"
   ]
  },
  {
   "cell_type": "code",
   "execution_count": 8,
   "metadata": {
    "vscode": {
     "languageId": "r"
    }
   },
   "outputs": [
    {
     "data": {
      "text/plain": [
       "Confusion Matrix and Statistics\n",
       "\n",
       "          Reference\n",
       "Prediction   No  Yes\n",
       "       No  3869 3803\n",
       "       Yes    0    0\n",
       "                                         \n",
       "               Accuracy : 0.5043         \n",
       "                 95% CI : (0.493, 0.5156)\n",
       "    No Information Rate : 0.5043         \n",
       "    P-Value [Acc > NIR] : 0.5046         \n",
       "                                         \n",
       "                  Kappa : 0              \n",
       "                                         \n",
       " Mcnemar's Test P-Value : <2e-16         \n",
       "                                         \n",
       "            Sensitivity : 0.0000         \n",
       "            Specificity : 1.0000         \n",
       "         Pos Pred Value :    NaN         \n",
       "         Neg Pred Value : 0.5043         \n",
       "             Prevalence : 0.4957         \n",
       "         Detection Rate : 0.0000         \n",
       "   Detection Prevalence : 0.0000         \n",
       "      Balanced Accuracy : 0.5000         \n",
       "                                         \n",
       "       'Positive' Class : Yes            \n",
       "                                         "
      ]
     },
     "metadata": {},
     "output_type": "display_data"
    }
   ],
   "source": [
    "cm_rpart <- confusionMatrix(rpart_predict, testset$passed, positive = \"Yes\")\n",
    "cm_rpart"
   ]
  },
  {
   "cell_type": "code",
   "execution_count": 9,
   "metadata": {
    "vscode": {
     "languageId": "r"
    }
   },
   "outputs": [],
   "source": [
    "set.seed(123)\n",
    "\n",
    "model_randomForest <- randomForest(passed ~ ., data = trainset, importance = TRUE)\n",
    "randomForest_predict <- predict(model_randomForest, testset[, -6])"
   ]
  },
  {
   "cell_type": "code",
   "execution_count": 10,
   "metadata": {
    "vscode": {
     "languageId": "r"
    }
   },
   "outputs": [
    {
     "data": {
      "text/plain": [
       "Confusion Matrix and Statistics\n",
       "\n",
       "          Reference\n",
       "Prediction   No  Yes\n",
       "       No  2035 1982\n",
       "       Yes 1834 1821\n",
       "                                          \n",
       "               Accuracy : 0.5026          \n",
       "                 95% CI : (0.4914, 0.5139)\n",
       "    No Information Rate : 0.5043          \n",
       "    P-Value [Acc > NIR] : 0.62107         \n",
       "                                          \n",
       "                  Kappa : 0.0048          \n",
       "                                          \n",
       " Mcnemar's Test P-Value : 0.01733         \n",
       "                                          \n",
       "            Sensitivity : 0.4788          \n",
       "            Specificity : 0.5260          \n",
       "         Pos Pred Value : 0.4982          \n",
       "         Neg Pred Value : 0.5066          \n",
       "             Prevalence : 0.4957          \n",
       "         Detection Rate : 0.2374          \n",
       "   Detection Prevalence : 0.4764          \n",
       "      Balanced Accuracy : 0.5024          \n",
       "                                          \n",
       "       'Positive' Class : Yes             \n",
       "                                          "
      ]
     },
     "metadata": {},
     "output_type": "display_data"
    }
   ],
   "source": [
    "cm_randomForest <- confusionMatrix(randomForest_predict, testset$passed, positive = \"Yes\")\n",
    "cm_randomForest"
   ]
  },
  {
   "cell_type": "code",
   "execution_count": 11,
   "metadata": {
    "vscode": {
     "languageId": "r"
    }
   },
   "outputs": [],
   "source": [
    "set.seed(123)\n",
    "\n",
    "model_kLinear <- svm(passed ~., data = trainset, kernel = \"linear\")\n",
    "kLinear_predict <- predict(model_kLinear, testset)"
   ]
  },
  {
   "cell_type": "code",
   "execution_count": 12,
   "metadata": {
    "vscode": {
     "languageId": "r"
    }
   },
   "outputs": [
    {
     "data": {
      "text/plain": [
       "Confusion Matrix and Statistics\n",
       "\n",
       "          Reference\n",
       "Prediction   No  Yes\n",
       "       No  2333 2322\n",
       "       Yes 1536 1481\n",
       "                                          \n",
       "               Accuracy : 0.4971          \n",
       "                 95% CI : (0.4859, 0.5084)\n",
       "    No Information Rate : 0.5043          \n",
       "    P-Value [Acc > NIR] : 0.8975          \n",
       "                                          \n",
       "                  Kappa : -0.0076         \n",
       "                                          \n",
       " Mcnemar's Test P-Value : <2e-16          \n",
       "                                          \n",
       "            Sensitivity : 0.3894          \n",
       "            Specificity : 0.6030          \n",
       "         Pos Pred Value : 0.4909          \n",
       "         Neg Pred Value : 0.5012          \n",
       "             Prevalence : 0.4957          \n",
       "         Detection Rate : 0.1930          \n",
       "   Detection Prevalence : 0.3932          \n",
       "      Balanced Accuracy : 0.4962          \n",
       "                                          \n",
       "       'Positive' Class : Yes             \n",
       "                                          "
      ]
     },
     "metadata": {},
     "output_type": "display_data"
    }
   ],
   "source": [
    "cm_kLinear <- confusionMatrix(kLinear_predict, testset$passed, positive = \"Yes\")\n",
    "cm_kLinear"
   ]
  },
  {
   "cell_type": "code",
   "execution_count": 13,
   "metadata": {
    "vscode": {
     "languageId": "r"
    }
   },
   "outputs": [],
   "source": [
    "set.seed(123)\n",
    "\n",
    "model_kRadial <- svm(passed ~., data = trainset, kernel = \"radial\")\n",
    "kRadial_predict <- predict(model_kRadial, testset)"
   ]
  },
  {
   "cell_type": "code",
   "execution_count": 14,
   "metadata": {
    "vscode": {
     "languageId": "r"
    }
   },
   "outputs": [
    {
     "data": {
      "text/plain": [
       "Confusion Matrix and Statistics\n",
       "\n",
       "          Reference\n",
       "Prediction   No  Yes\n",
       "       No  2234 2238\n",
       "       Yes 1635 1565\n",
       "                                          \n",
       "               Accuracy : 0.4952          \n",
       "                 95% CI : (0.4839, 0.5064)\n",
       "    No Information Rate : 0.5043          \n",
       "    P-Value [Acc > NIR] : 0.9463          \n",
       "                                          \n",
       "                  Kappa : -0.0111         \n",
       "                                          \n",
       " Mcnemar's Test P-Value : <2e-16          \n",
       "                                          \n",
       "            Sensitivity : 0.4115          \n",
       "            Specificity : 0.5774          \n",
       "         Pos Pred Value : 0.4891          \n",
       "         Neg Pred Value : 0.4996          \n",
       "             Prevalence : 0.4957          \n",
       "         Detection Rate : 0.2040          \n",
       "   Detection Prevalence : 0.4171          \n",
       "      Balanced Accuracy : 0.4945          \n",
       "                                          \n",
       "       'Positive' Class : Yes             \n",
       "                                          "
      ]
     },
     "metadata": {},
     "output_type": "display_data"
    }
   ],
   "source": [
    "cm_kRadial <- confusionMatrix(kRadial_predict, testset$passed, positive = \"Yes\")\n",
    "cm_kRadial"
   ]
  },
  {
   "cell_type": "code",
   "execution_count": 15,
   "metadata": {
    "vscode": {
     "languageId": "r"
    }
   },
   "outputs": [],
   "source": [
    "set.seed(123)\n",
    "\n",
    "model_kPolynomial <- svm(passed ~., data = trainset, kernel = \"polynomial\")\n",
    "kPolynomial_predict <- predict(model_kPolynomial, testset)"
   ]
  },
  {
   "cell_type": "code",
   "execution_count": 16,
   "metadata": {
    "vscode": {
     "languageId": "r"
    }
   },
   "outputs": [
    {
     "data": {
      "text/plain": [
       "Confusion Matrix and Statistics\n",
       "\n",
       "          Reference\n",
       "Prediction   No  Yes\n",
       "       No  3012 3010\n",
       "       Yes  857  793\n",
       "                                          \n",
       "               Accuracy : 0.496           \n",
       "                 95% CI : (0.4847, 0.5072)\n",
       "    No Information Rate : 0.5043          \n",
       "    P-Value [Acc > NIR] : 0.9296          \n",
       "                                          \n",
       "                  Kappa : -0.013          \n",
       "                                          \n",
       " Mcnemar's Test P-Value : <2e-16          \n",
       "                                          \n",
       "            Sensitivity : 0.2085          \n",
       "            Specificity : 0.7785          \n",
       "         Pos Pred Value : 0.4806          \n",
       "         Neg Pred Value : 0.5002          \n",
       "             Prevalence : 0.4957          \n",
       "         Detection Rate : 0.1034          \n",
       "   Detection Prevalence : 0.2151          \n",
       "      Balanced Accuracy : 0.4935          \n",
       "                                          \n",
       "       'Positive' Class : Yes             \n",
       "                                          "
      ]
     },
     "metadata": {},
     "output_type": "display_data"
    }
   ],
   "source": [
    "cm_kPolynomial <- confusionMatrix(kPolynomial_predict, testset$passed, positive = \"Yes\")\n",
    "cm_kPolynomial"
   ]
  },
  {
   "cell_type": "code",
   "execution_count": 18,
   "metadata": {
    "vscode": {
     "languageId": "r"
    }
   },
   "outputs": [],
   "source": [
    "set.seed(123)\n",
    "\n",
    "model_kSigmoid <- svm(passed ~., data = trainset, kernel = \"sigmoid\")\n",
    "kSigmoid_predict <- predict(model_kSigmoid, testset)"
   ]
  },
  {
   "cell_type": "code",
   "execution_count": 19,
   "metadata": {
    "vscode": {
     "languageId": "r"
    }
   },
   "outputs": [
    {
     "data": {
      "text/plain": [
       "Confusion Matrix and Statistics\n",
       "\n",
       "          Reference\n",
       "Prediction   No  Yes\n",
       "       No  1953 1903\n",
       "       Yes 1916 1900\n",
       "                                         \n",
       "               Accuracy : 0.5022         \n",
       "                 95% CI : (0.491, 0.5135)\n",
       "    No Information Rate : 0.5043         \n",
       "    P-Value [Acc > NIR] : 0.6468         \n",
       "                                         \n",
       "                  Kappa : 0.0044         \n",
       "                                         \n",
       " Mcnemar's Test P-Value : 0.8460         \n",
       "                                         \n",
       "            Sensitivity : 0.4996         \n",
       "            Specificity : 0.5048         \n",
       "         Pos Pred Value : 0.4979         \n",
       "         Neg Pred Value : 0.5065         \n",
       "             Prevalence : 0.4957         \n",
       "         Detection Rate : 0.2477         \n",
       "   Detection Prevalence : 0.4974         \n",
       "      Balanced Accuracy : 0.5022         \n",
       "                                         \n",
       "       'Positive' Class : Yes            \n",
       "                                         "
      ]
     },
     "metadata": {},
     "output_type": "display_data"
    }
   ],
   "source": [
    "cm_kSigmoid <- confusionMatrix(kSigmoid_predict, testset$passed, positive = \"Yes\")\n",
    "cm_kSigmoid"
   ]
  },
  {
   "cell_type": "code",
   "execution_count": 20,
   "metadata": {
    "vscode": {
     "languageId": "r"
    }
   },
   "outputs": [
    {
     "data": {
      "text/html": [
       "<table class=\"dataframe\">\n",
       "<caption>A data.frame: 7 × 9</caption>\n",
       "<thead>\n",
       "\t<tr><th></th><th scope=col>Accuracy</th><th scope=col>Sensitivity</th><th scope=col>Specificity</th><th scope=col>Pos Pred Value</th><th scope=col>Neg Pred Value</th><th scope=col>Prevalence</th><th scope=col>Detection Rate</th><th scope=col>Detection Prevalence</th><th scope=col>Balanced Accuracy</th></tr>\n",
       "\t<tr><th></th><th scope=col>&lt;chr&gt;</th><th scope=col>&lt;chr&gt;</th><th scope=col>&lt;chr&gt;</th><th scope=col>&lt;chr&gt;</th><th scope=col>&lt;chr&gt;</th><th scope=col>&lt;chr&gt;</th><th scope=col>&lt;chr&gt;</th><th scope=col>&lt;chr&gt;</th><th scope=col>&lt;chr&gt;</th></tr>\n",
       "</thead>\n",
       "<tbody>\n",
       "\t<tr><th scope=row>kknn</th><td>0.4973931</td><td>0.4906653</td><td>0.5040062</td><td>0.4929987</td><td>0.5016722</td><td>0.4956986</td><td>0.2432221</td><td>0.4933525</td><td>0.4973357</td></tr>\n",
       "\t<tr><th scope=row>Rpart</th><td>0.5043014</td><td>0.0000000</td><td>1.0000000</td><td>NA       </td><td>0.5043014</td><td>0.4956986</td><td>0.0000000</td><td>0.0000000</td><td>0.5000000</td></tr>\n",
       "\t<tr><th scope=row>RandomForest</th><td>0.5026069</td><td>0.4788325</td><td>0.5259757</td><td>0.4982216</td><td>0.5065970</td><td>0.4956986</td><td>0.2373566</td><td>0.4764077</td><td>0.5024041</td></tr>\n",
       "\t<tr><th scope=row>Linear</th><td>0.4971324</td><td>0.3894294</td><td>0.6029982</td><td>0.4908850</td><td>0.5011815</td><td>0.4956986</td><td>0.1930396</td><td>0.3932482</td><td>0.4962138</td></tr>\n",
       "\t<tr><th scope=row>Radial</th><td>0.4951773</td><td>0.4115172</td><td>0.5774102</td><td>0.4890625</td><td>0.4995528</td><td>0.4956986</td><td>0.2039885</td><td>0.4171011</td><td>0.4944637</td></tr>\n",
       "\t<tr><th scope=row>Polynomial</th><td>0.4959593</td><td>0.2085196</td><td>0.7784957</td><td>0.4806061</td><td>0.5001661</td><td>0.4956986</td><td>0.1033629</td><td>0.2150678</td><td>0.4935077</td></tr>\n",
       "\t<tr><th scope=row>Sigmoid</th><td>0.5022158</td><td>0.4996056</td><td>0.5047816</td><td>0.4979036</td><td>0.5064834</td><td>0.4956986</td><td>0.2476538</td><td>0.4973931</td><td>0.5021936</td></tr>\n",
       "</tbody>\n",
       "</table>\n"
      ],
      "text/latex": [
       "A data.frame: 7 × 9\n",
       "\\begin{tabular}{r|lllllllll}\n",
       "  & Accuracy & Sensitivity & Specificity & Pos Pred Value & Neg Pred Value & Prevalence & Detection Rate & Detection Prevalence & Balanced Accuracy\\\\\n",
       "  & <chr> & <chr> & <chr> & <chr> & <chr> & <chr> & <chr> & <chr> & <chr>\\\\\n",
       "\\hline\n",
       "\tkknn & 0.4973931 & 0.4906653 & 0.5040062 & 0.4929987 & 0.5016722 & 0.4956986 & 0.2432221 & 0.4933525 & 0.4973357\\\\\n",
       "\tRpart & 0.5043014 & 0.0000000 & 1.0000000 & NA        & 0.5043014 & 0.4956986 & 0.0000000 & 0.0000000 & 0.5000000\\\\\n",
       "\tRandomForest & 0.5026069 & 0.4788325 & 0.5259757 & 0.4982216 & 0.5065970 & 0.4956986 & 0.2373566 & 0.4764077 & 0.5024041\\\\\n",
       "\tLinear & 0.4971324 & 0.3894294 & 0.6029982 & 0.4908850 & 0.5011815 & 0.4956986 & 0.1930396 & 0.3932482 & 0.4962138\\\\\n",
       "\tRadial & 0.4951773 & 0.4115172 & 0.5774102 & 0.4890625 & 0.4995528 & 0.4956986 & 0.2039885 & 0.4171011 & 0.4944637\\\\\n",
       "\tPolynomial & 0.4959593 & 0.2085196 & 0.7784957 & 0.4806061 & 0.5001661 & 0.4956986 & 0.1033629 & 0.2150678 & 0.4935077\\\\\n",
       "\tSigmoid & 0.5022158 & 0.4996056 & 0.5047816 & 0.4979036 & 0.5064834 & 0.4956986 & 0.2476538 & 0.4973931 & 0.5021936\\\\\n",
       "\\end{tabular}\n"
      ],
      "text/markdown": [
       "\n",
       "A data.frame: 7 × 9\n",
       "\n",
       "| <!--/--> | Accuracy &lt;chr&gt; | Sensitivity &lt;chr&gt; | Specificity &lt;chr&gt; | Pos Pred Value &lt;chr&gt; | Neg Pred Value &lt;chr&gt; | Prevalence &lt;chr&gt; | Detection Rate &lt;chr&gt; | Detection Prevalence &lt;chr&gt; | Balanced Accuracy &lt;chr&gt; |\n",
       "|---|---|---|---|---|---|---|---|---|---|\n",
       "| kknn | 0.4973931 | 0.4906653 | 0.5040062 | 0.4929987 | 0.5016722 | 0.4956986 | 0.2432221 | 0.4933525 | 0.4973357 |\n",
       "| Rpart | 0.5043014 | 0.0000000 | 1.0000000 | NA        | 0.5043014 | 0.4956986 | 0.0000000 | 0.0000000 | 0.5000000 |\n",
       "| RandomForest | 0.5026069 | 0.4788325 | 0.5259757 | 0.4982216 | 0.5065970 | 0.4956986 | 0.2373566 | 0.4764077 | 0.5024041 |\n",
       "| Linear | 0.4971324 | 0.3894294 | 0.6029982 | 0.4908850 | 0.5011815 | 0.4956986 | 0.1930396 | 0.3932482 | 0.4962138 |\n",
       "| Radial | 0.4951773 | 0.4115172 | 0.5774102 | 0.4890625 | 0.4995528 | 0.4956986 | 0.2039885 | 0.4171011 | 0.4944637 |\n",
       "| Polynomial | 0.4959593 | 0.2085196 | 0.7784957 | 0.4806061 | 0.5001661 | 0.4956986 | 0.1033629 | 0.2150678 | 0.4935077 |\n",
       "| Sigmoid | 0.5022158 | 0.4996056 | 0.5047816 | 0.4979036 | 0.5064834 | 0.4956986 | 0.2476538 | 0.4973931 | 0.5021936 |\n",
       "\n"
      ],
      "text/plain": [
       "             Accuracy  Sensitivity Specificity Pos Pred Value Neg Pred Value\n",
       "kknn         0.4973931 0.4906653   0.5040062   0.4929987      0.5016722     \n",
       "Rpart        0.5043014 0.0000000   1.0000000   NA             0.5043014     \n",
       "RandomForest 0.5026069 0.4788325   0.5259757   0.4982216      0.5065970     \n",
       "Linear       0.4971324 0.3894294   0.6029982   0.4908850      0.5011815     \n",
       "Radial       0.4951773 0.4115172   0.5774102   0.4890625      0.4995528     \n",
       "Polynomial   0.4959593 0.2085196   0.7784957   0.4806061      0.5001661     \n",
       "Sigmoid      0.5022158 0.4996056   0.5047816   0.4979036      0.5064834     \n",
       "             Prevalence Detection Rate Detection Prevalence Balanced Accuracy\n",
       "kknn         0.4956986  0.2432221      0.4933525            0.4973357        \n",
       "Rpart        0.4956986  0.0000000      0.0000000            0.5000000        \n",
       "RandomForest 0.4956986  0.2373566      0.4764077            0.5024041        \n",
       "Linear       0.4956986  0.1930396      0.3932482            0.4962138        \n",
       "Radial       0.4956986  0.2039885      0.4171011            0.4944637        \n",
       "Polynomial   0.4956986  0.1033629      0.2150678            0.4935077        \n",
       "Sigmoid      0.4956986  0.2476538      0.4973931            0.5021936        "
      ]
     },
     "metadata": {},
     "output_type": "display_data"
    }
   ],
   "source": [
    "extract_metrics <- function(cm) {\n",
    "  c(\n",
    "    Accuracy = cm$overall[\"Accuracy\"],\n",
    "    Sensitivity = cm$byClass[\"Sensitivity\"],\n",
    "    Specificity = cm$byClass[\"Specificity\"],\n",
    "    Pos_Pred_Value = cm$byClass[\"Pos Pred Value\"],\n",
    "    Neg_Pred_Value = cm$byClass[\"Neg Pred Value\"],\n",
    "    Prevalence = cm$byClass[\"Prevalence\"],\n",
    "    Detection_Rate = cm$byClass[\"Detection Rate\"],\n",
    "    Detection_Prevalence = cm$byClass[\"Detection Prevalence\"],\n",
    "    Balanced_Accuracy = cm$byClass[\"Balanced Accuracy\"]\n",
    "  )\n",
    "}\n",
    "\n",
    "# create a dataframe with the metrics of every model\n",
    "metrics_df <- data.frame(\n",
    "  Metric = c(\"Accuracy\", \"Sensitivity\", \"Specificity\", \"Pos Pred Value\", \n",
    "             \"Neg Pred Value\", \"Prevalence\", \"Detection Rate\", \n",
    "             \"Detection Prevalence\", \"Balanced Accuracy\"),\n",
    "  kknn = extract_metrics(cm_kknn),\n",
    "  Rpart = extract_metrics(cm_rpart),\n",
    "  RandomForest = extract_metrics(cm_randomForest),\n",
    "  Linear = extract_metrics(cm_kLinear),\n",
    "  Radial = extract_metrics(cm_kRadial),\n",
    "  Polynomial = extract_metrics(cm_kPolynomial),\n",
    "  Sigmoid = extract_metrics(cm_kSigmoid)\n",
    ")\n",
    "\n",
    "\n",
    "# transpose the dataframe to make models rows and metrics columns\n",
    "metrics_df <- t(metrics_df)\n",
    "\n",
    "# convert the result to a dataframe\n",
    "metrics_df <- as.data.frame(metrics_df)\n",
    "\n",
    "# asign the column names correctly\n",
    "colnames(metrics_df) <- metrics_df[1, ]  # take the first row as column names\n",
    "metrics_df <- metrics_df[-1, ]\n",
    "\n",
    "metrics_df"
   ]
  }
 ],
 "metadata": {
  "kernelspec": {
   "display_name": "R",
   "language": "R",
   "name": "ir"
  },
  "language_info": {
   "codemirror_mode": "r",
   "file_extension": ".r",
   "mimetype": "text/x-r-source",
   "name": "R",
   "pygments_lexer": "r",
   "version": "4.4.1"
  }
 },
 "nbformat": 4,
 "nbformat_minor": 2
}
